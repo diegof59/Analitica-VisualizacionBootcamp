{
  "nbformat": 4,
  "nbformat_minor": 0,
  "metadata": {
    "colab": {
      "provenance": []
    },
    "kernelspec": {
      "name": "python3",
      "display_name": "Python 3"
    },
    "language_info": {
      "name": "python"
    }
  },
  "cells": [
    {
      "cell_type": "code",
      "execution_count": 3,
      "metadata": {
        "id": "3TDT2QqLZ4El"
      },
      "outputs": [],
      "source": [
        "import pandas as pd"
      ]
    },
    {
      "cell_type": "code",
      "source": [
        "# Lectura\n",
        "from google.colab import drive\n",
        "drive.mount('/gdrive')\n",
        "\n",
        "ruta = \"/gdrive/MyDrive/CursoAnalitica/emails_dataset2.csv\"\n",
        "data = pd.read_csv(ruta, sep=';', encoding='latin1')\n"
      ],
      "metadata": {
        "colab": {
          "base_uri": "https://localhost:8080/"
        },
        "id": "OJ5rhc1WZ9hS",
        "outputId": "8c8dfce4-40ed-475b-8996-da618cfcffb3"
      },
      "execution_count": 22,
      "outputs": [
        {
          "output_type": "stream",
          "name": "stdout",
          "text": [
            "Drive already mounted at /gdrive; to attempt to forcibly remount, call drive.mount(\"/gdrive\", force_remount=True).\n"
          ]
        }
      ]
    },
    {
      "cell_type": "code",
      "source": [
        "data.info()"
      ],
      "metadata": {
        "colab": {
          "base_uri": "https://localhost:8080/"
        },
        "id": "gXKRK1u0bnNI",
        "outputId": "d27cbc29-ad11-4f3e-9111-581d338d0378"
      },
      "execution_count": 23,
      "outputs": [
        {
          "output_type": "stream",
          "name": "stdout",
          "text": [
            "<class 'pandas.core.frame.DataFrame'>\n",
            "RangeIndex: 100 entries, 0 to 99\n",
            "Data columns (total 12 columns):\n",
            " #   Column       Non-Null Count  Dtype  \n",
            "---  ------       --------------  -----  \n",
            " 0   ID           100 non-null    int64  \n",
            " 1   Tipo         100 non-null    object \n",
            " 2   Texto        100 non-null    object \n",
            " 3   Unnamed: 3   0 non-null      float64\n",
            " 4   Unnamed: 4   0 non-null      float64\n",
            " 5   Unnamed: 5   0 non-null      float64\n",
            " 6   Unnamed: 6   0 non-null      float64\n",
            " 7   Unnamed: 7   0 non-null      float64\n",
            " 8   Unnamed: 8   0 non-null      float64\n",
            " 9   Unnamed: 9   0 non-null      float64\n",
            " 10  Unnamed: 10  0 non-null      float64\n",
            " 11  Unnamed: 11  50 non-null     object \n",
            "dtypes: float64(8), int64(1), object(3)\n",
            "memory usage: 9.5+ KB\n"
          ]
        }
      ]
    },
    {
      "cell_type": "code",
      "source": [
        "# Contar cuántos correos son Spam y cuántos No Spam\n",
        "conteo_spam = data['Tipo'].value_counts()\n",
        "\n",
        "print(conteo_spam)\n",
        "\n"
      ],
      "metadata": {
        "colab": {
          "base_uri": "https://localhost:8080/"
        },
        "id": "9zLsTuVwdKYJ",
        "outputId": "694064da-2fbd-4fe1-dfbc-c7328f5d2d1a"
      },
      "execution_count": 24,
      "outputs": [
        {
          "output_type": "stream",
          "name": "stdout",
          "text": [
            "Tipo\n",
            "no spam    75\n",
            "spam       25\n",
            "Name: count, dtype: int64\n"
          ]
        }
      ]
    },
    {
      "cell_type": "code",
      "source": [
        "# Filtrar los correos que contienen la palabra \"barato\"\n",
        "contiene_barato = data[data['Texto'].str.contains('barato', case=False)]\n",
        "\n",
        "# Calcular el total de correos con \"barato\"\n",
        "total_con_barato = contiene_barato.shape[0]\n",
        "\n",
        "# Calcular cuántos correos con \"barato\" son Spam y cuántos son No Spam\n",
        "conteo_spam_con_barato = contiene_barato[contiene_barato['Tipo'] == 'spam'].shape[0]\n",
        "conteo_no_spam_con_barato = contiene_barato[contiene_barato['Tipo'] == 'no spam'].shape[0]\n",
        "\n",
        "# Calcular los porcentajes\n",
        "porcentaje_spam_con_barato = (conteo_spam_con_barato / total_con_barato) * 100\n",
        "porcentaje_no_spam_con_barato = (conteo_no_spam_con_barato / total_con_barato) * 100\n",
        "\n",
        "print(conteo_spam_con_barato)\n",
        "print(f\"Porcentaje de correos con 'barato' en Spam: {porcentaje_spam_con_barato}%\")\n",
        "print(f\"Porcentaje de correos con 'barato' en No Spam: {porcentaje_no_spam_con_barato}%\")\n",
        "\n",
        "\n"
      ],
      "metadata": {
        "colab": {
          "base_uri": "https://localhost:8080/"
        },
        "id": "i9LTgABpeZWV",
        "outputId": "7c6e14f2-749f-4a2c-e395-208aad3a030c"
      },
      "execution_count": 25,
      "outputs": [
        {
          "output_type": "stream",
          "name": "stdout",
          "text": [
            "20\n",
            "Porcentaje de correos con 'barato' en Spam: 80.0%\n",
            "Porcentaje de correos con 'barato' en No Spam: 20.0%\n"
          ]
        }
      ]
    },
    {
      "cell_type": "code",
      "source": [
        "# Filtrar los correos que contienen la palabra \"comprar\"\n",
        "contiene_comprar = data[data['Texto'].str.contains('comprar', case=False)]\n",
        "\n",
        "# Calcular el total de correos con \"comprar\"\n",
        "total_con_comprar = contiene_comprar.shape[0]\n",
        "\n",
        "# Calcular cuántos correos con \"comprar\" son Spam y cuántos son No Spam\n",
        "conteo_spam_con_comprar = contiene_comprar[contiene_comprar['Tipo'] == 'spam'].shape[0]\n",
        "conteo_no_spam_con_comprar = contiene_comprar[contiene_comprar['Tipo'] == 'no spam'].shape[0]\n",
        "\n",
        "# Calcular los porcentajes\n",
        "porcentaje_spam_con_comprar = (conteo_spam_con_comprar / total_con_comprar) * 100\n",
        "porcentaje_no_spam_con_comprar = (conteo_no_spam_con_comprar / total_con_comprar) * 100\n",
        "\n",
        "# Mostrar los resultados\n",
        "print(conteo_no_spam_con_comprar)\n",
        "print(f\"Porcentaje de correos con 'comprar' en Spam: {porcentaje_spam_con_comprar}%\")\n",
        "print(f\"Porcentaje de correos con 'comprar' en No Spam: {porcentaje_no_spam_con_comprar}%\")\n"
      ],
      "metadata": {
        "colab": {
          "base_uri": "https://localhost:8080/"
        },
        "id": "oqKsRJXfxCKg",
        "outputId": "e1ac3bf8-f76b-43aa-f753-f992e35c28b8"
      },
      "execution_count": 26,
      "outputs": [
        {
          "output_type": "stream",
          "name": "stdout",
          "text": [
            "10\n",
            "Porcentaje de correos con 'comprar' en Spam: 60.0%\n",
            "Porcentaje de correos con 'comprar' en No Spam: 40.0%\n"
          ]
        }
      ]
    },
    {
      "cell_type": "code",
      "source": [
        "# Filtrar los correos que contienen ambas palabras \"barato\" y \"comprar\"\n",
        "contiene_ambas = data[data['Texto'].str.contains('barato', case=False) & data['Texto'].str.contains('comprar', case=False)]\n",
        "\n",
        "# Contar cuántos correos contienen ambas palabras en Spam y No Spam\n",
        "conteo_spam_con_ambas = contiene_ambas[contiene_ambas['Tipo'] == 'spam'].shape[0]\n",
        "conteo_no_spam_con_ambas = contiene_ambas[contiene_ambas['Tipo'] == 'no spam'].shape[0]\n",
        "\n",
        "print(f\"Correos en Spam con ambas palabras: {conteo_spam_con_ambas}\")\n",
        "print(f\"Correos en No Spam con ambas palabras: {conteo_no_spam_con_ambas}\")\n",
        "\n"
      ],
      "metadata": {
        "colab": {
          "base_uri": "https://localhost:8080/"
        },
        "id": "_VSEfP6X9P9L",
        "outputId": "d9a9271a-0c24-40f9-fa62-5f2c14a75bcf"
      },
      "execution_count": 27,
      "outputs": [
        {
          "output_type": "stream",
          "name": "stdout",
          "text": [
            "Correos en Spam con ambas palabras: 12\n",
            "Correos en No Spam con ambas palabras: 0\n"
          ]
        }
      ]
    },
    {
      "cell_type": "code",
      "source": [
        "# 1. Calcular el total de correos\n",
        "total_correos = data.shape[0]\n",
        "\n",
        "# 2. Filtrar los correos que están en \"No Spam\"\n",
        "no_spam_correos = data[data['Tipo'].str.lower() == 'no spam']\n",
        "\n",
        "# 3. Contar cuántos correos en No Spam contienen \"Barato\"\n",
        "contiene_barato_no_spam = no_spam_correos[no_spam_correos['Texto'].str.contains('barato', case=False)]\n",
        "total_barato_no_spam = contiene_barato_no_spam.shape[0]\n",
        "\n",
        "# 4. Contar cuántos correos en No Spam contienen \"Comprar\"\n",
        "contiene_comprar_no_spam = no_spam_correos[no_spam_correos['Texto'].str.contains('comprar', case=False)]\n",
        "total_comprar_no_spam = contiene_comprar_no_spam.shape[0]\n",
        "\n",
        "# 5. Calcular el porcentaje de \"Barato\" y \"Comprar\" sobre el total de 100 correos\n",
        "porcentaje_barato = (total_barato_no_spam / total_correos) * 100\n",
        "porcentaje_comprar = (total_comprar_no_spam / total_correos) * 100\n",
        "\n",
        "# 6. Calcular cuántos correos podrían contener ambas palabras (Barato y Comprar)\n",
        "# Asumiendo que el porcentaje de correos con ambas palabras sería el resultado de multiplicar los porcentajes.\n",
        "porcentaje_ambas = (porcentaje_barato * porcentaje_comprar) / 100\n",
        "\n",
        "# 7. Mostrar los resultados\n",
        "print(f\"Total correos con 'Barato' en No Spam: {total_barato_no_spam} ({porcentaje_barato:.2f}%)\")\n",
        "print(f\"Total correos con 'Comprar' en No Spam: {total_comprar_no_spam} ({porcentaje_comprar:.2f}%)\")\n",
        "print(f\"Porcentaje estimado de correos con ambas palabras: {porcentaje_ambas:.2f}%\")\n",
        "\n"
      ],
      "metadata": {
        "colab": {
          "base_uri": "https://localhost:8080/"
        },
        "id": "AAMLinNjAV_Y",
        "outputId": "9125d920-3c08-4bf0-ac89-3ad747d874b9"
      },
      "execution_count": 28,
      "outputs": [
        {
          "output_type": "stream",
          "name": "stdout",
          "text": [
            "Total correos con 'Barato' en No Spam: 5 (5.00%)\n",
            "Total correos con 'Comprar' en No Spam: 10 (10.00%)\n",
            "Porcentaje estimado de correos con ambas palabras: 0.50%\n"
          ]
        }
      ]
    },
    {
      "cell_type": "code",
      "source": [
        "# Asumiendo que 'data' es el DataFrame con la columna 'Tipo' que contiene 'spam' o 'no spam'\n",
        "\n",
        "# Filtrar los correos que son Spam y No Spam\n",
        "spam_correos = data[data['Tipo'].str.lower() == 'spam']  # Correos clasificados como Spam\n",
        "no_spam_correos = data[data['Tipo'].str.lower() == 'no spam']  # Correos clasificados como No Spam\n",
        "\n",
        "# Total de correos Spam y No Spam\n",
        "total_spam = spam_correos.shape[0]  # Total correos en Spam\n",
        "total_no_spam = no_spam_correos.shape[0]  # Total correos en No Spam\n",
        "\n",
        "# Filtrar los correos que contienen la palabra \"barato\"\n",
        "contiene_barato = data[data['Texto'].str.contains('barato', case=False)]\n",
        "\n",
        "# Calcular el total de correos con \"barato\" que son Spam y No Spam\n",
        "conteo_spam_con_barato = contiene_barato[contiene_barato['Tipo'].str.lower() == 'spam'].shape[0]\n",
        "conteo_no_spam_con_barato = contiene_barato[contiene_barato['Tipo'].str.lower() == 'no spam'].shape[0]\n",
        "\n",
        "# Filtrar los correos que contienen la palabra \"comprar\"\n",
        "contiene_comprar = data[data['Texto'].str.contains('comprar', case=False)]\n",
        "\n",
        "# Calcular el total de correos con \"comprar\" que son Spam y No Spam\n",
        "conteo_spam_con_comprar = contiene_comprar[contiene_comprar['Tipo'].str.lower() == 'spam'].shape[0]\n",
        "conteo_no_spam_con_comprar = contiene_comprar[contiene_comprar['Tipo'].str.lower() == 'no spam'].shape[0]\n",
        "\n",
        "# Probabilidades condicionales para correos en Spam\n",
        "p_barato_spam = conteo_spam_con_barato / total_spam  # P(barato | spam)\n",
        "p_comprar_spam = conteo_spam_con_comprar / total_spam  # P(comprar | spam)\n",
        "\n",
        "# Probabilidades condicionales para correos en No Spam\n",
        "p_barato_no_spam = conteo_no_spam_con_barato / total_no_spam  # P(barato | no spam)\n",
        "p_comprar_no_spam = conteo_no_spam_con_comprar / total_no_spam  # P(comprar | no spam)\n",
        "\n",
        "# Probabilidad conjunta de \"barato\" y \"comprar\" en Spam y No Spam\n",
        "p_ambas_spam = p_barato_spam * p_comprar_spam  # P(barato ∩ comprar | spam)\n",
        "p_ambas_no_spam = p_barato_no_spam * p_comprar_no_spam  # P(barato ∩ comprar | no spam)\n",
        "\n",
        "# Probabilidad de que el correo sea Spam y No Spam\n",
        "p_spam = total_spam / (total_spam + total_no_spam)  # P(spam)\n",
        "p_no_spam = total_no_spam / (total_spam + total_no_spam)  # P(no spam)\n",
        "\n",
        "# Teorema de Bayes aplicado: P(spam | barato ∩ comprar)\n",
        "numerador = p_ambas_spam * p_spam  # P(barato ∩ comprar | spam) * P(spam)\n",
        "denominador = (p_ambas_spam * p_spam) + (p_ambas_no_spam * p_no_spam)  # P(barato ∩ comprar | spam) * P(spam) + P(barato ∩ comprar | no spam) * P(no spam)\n",
        "\n",
        "# Probabilidad final\n",
        "probabilidad_spam_dado_barato_comprar = numerador / denominador\n",
        "\n",
        "# Convertir a porcentaje\n",
        "porcentaje_spam_dado_barato_comprar = probabilidad_spam_dado_barato_comprar * 100\n",
        "\n",
        "# Mostrar el resultado\n",
        "print(f\"Probabilidad de que un correo con 'Barato' y 'Comprar' sea Spam: {probabilidad_spam_dado_barato_comprar:.5f}\")\n",
        "print(f\"Porcentaje: {porcentaje_spam_dado_barato_comprar:.3f}%\")\n"
      ],
      "metadata": {
        "colab": {
          "base_uri": "https://localhost:8080/"
        },
        "id": "ymCSEvA48Y-5",
        "outputId": "ce80586b-e8d6-4814-8f8f-983cb44424dc"
      },
      "execution_count": 29,
      "outputs": [
        {
          "output_type": "stream",
          "name": "stdout",
          "text": [
            "Probabilidad de que un correo con 'Barato' y 'Comprar' sea Spam: 0.94737\n",
            "Porcentaje: 94.737%\n"
          ]
        }
      ]
    }
  ]
}