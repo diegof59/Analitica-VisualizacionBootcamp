{
  "nbformat": 4,
  "nbformat_minor": 0,
  "metadata": {
    "colab": {
      "provenance": []
    },
    "kernelspec": {
      "name": "python3",
      "display_name": "Python 3"
    },
    "language_info": {
      "name": "python"
    }
  },
  "cells": [
    {
      "cell_type": "code",
      "execution_count": 1,
      "metadata": {
        "id": "3TDT2QqLZ4El"
      },
      "outputs": [],
      "source": [
        "import pandas as pd"
      ]
    },
    {
      "cell_type": "code",
      "source": [
        "# Lectura\n",
        "from google.colab import drive\n",
        "drive.mount('/gdrive')\n",
        "\n",
        "ruta = \"/gdrive/MyDrive/DataSet/emails_dataset2.csv\"\n",
        "data = pd.read_csv(ruta, sep=';', encoding='latin1')\n"
      ],
      "metadata": {
        "colab": {
          "base_uri": "https://localhost:8080/"
        },
        "id": "OJ5rhc1WZ9hS",
        "outputId": "e35a27e2-f82b-4c94-ec48-04c6fb74a4b2"
      },
      "execution_count": 3,
      "outputs": [
        {
          "output_type": "stream",
          "name": "stdout",
          "text": [
            "Drive already mounted at /gdrive; to attempt to forcibly remount, call drive.mount(\"/gdrive\", force_remount=True).\n"
          ]
        }
      ]
    },
    {
      "cell_type": "code",
      "source": [
        "data.info()\n",
        "data.dropna()"
      ],
      "metadata": {
        "colab": {
          "base_uri": "https://localhost:8080/",
          "height": 417
        },
        "id": "gXKRK1u0bnNI",
        "outputId": "4ca7cfc7-5a02-4fb6-890b-5fd1b961a3ef"
      },
      "execution_count": 10,
      "outputs": [
        {
          "output_type": "stream",
          "name": "stdout",
          "text": [
            "<class 'pandas.core.frame.DataFrame'>\n",
            "RangeIndex: 100 entries, 0 to 99\n",
            "Data columns (total 12 columns):\n",
            " #   Column       Non-Null Count  Dtype  \n",
            "---  ------       --------------  -----  \n",
            " 0   ID           100 non-null    int64  \n",
            " 1   Tipo         100 non-null    object \n",
            " 2   Texto        100 non-null    object \n",
            " 3   Unnamed: 3   0 non-null      float64\n",
            " 4   Unnamed: 4   0 non-null      float64\n",
            " 5   Unnamed: 5   0 non-null      float64\n",
            " 6   Unnamed: 6   0 non-null      float64\n",
            " 7   Unnamed: 7   0 non-null      float64\n",
            " 8   Unnamed: 8   0 non-null      float64\n",
            " 9   Unnamed: 9   0 non-null      float64\n",
            " 10  Unnamed: 10  0 non-null      float64\n",
            " 11  Unnamed: 11  50 non-null     object \n",
            "dtypes: float64(8), int64(1), object(3)\n",
            "memory usage: 9.5+ KB\n"
          ]
        },
        {
          "output_type": "execute_result",
          "data": {
            "text/plain": [
              "Empty DataFrame\n",
              "Columns: [ID, Tipo, Texto, Unnamed: 3, Unnamed: 4, Unnamed: 5, Unnamed: 6, Unnamed: 7, Unnamed: 8, Unnamed: 9, Unnamed: 10, Unnamed: 11]\n",
              "Index: []"
            ],
            "text/html": [
              "\n",
              "  <div id=\"df-fd91c4f7-8e5e-4440-9039-3e53077ccd7a\" class=\"colab-df-container\">\n",
              "    <div>\n",
              "<style scoped>\n",
              "    .dataframe tbody tr th:only-of-type {\n",
              "        vertical-align: middle;\n",
              "    }\n",
              "\n",
              "    .dataframe tbody tr th {\n",
              "        vertical-align: top;\n",
              "    }\n",
              "\n",
              "    .dataframe thead th {\n",
              "        text-align: right;\n",
              "    }\n",
              "</style>\n",
              "<table border=\"1\" class=\"dataframe\">\n",
              "  <thead>\n",
              "    <tr style=\"text-align: right;\">\n",
              "      <th></th>\n",
              "      <th>ID</th>\n",
              "      <th>Tipo</th>\n",
              "      <th>Texto</th>\n",
              "      <th>Unnamed: 3</th>\n",
              "      <th>Unnamed: 4</th>\n",
              "      <th>Unnamed: 5</th>\n",
              "      <th>Unnamed: 6</th>\n",
              "      <th>Unnamed: 7</th>\n",
              "      <th>Unnamed: 8</th>\n",
              "      <th>Unnamed: 9</th>\n",
              "      <th>Unnamed: 10</th>\n",
              "      <th>Unnamed: 11</th>\n",
              "    </tr>\n",
              "  </thead>\n",
              "  <tbody>\n",
              "  </tbody>\n",
              "</table>\n",
              "</div>\n",
              "    <div class=\"colab-df-buttons\">\n",
              "\n",
              "  <div class=\"colab-df-container\">\n",
              "    <button class=\"colab-df-convert\" onclick=\"convertToInteractive('df-fd91c4f7-8e5e-4440-9039-3e53077ccd7a')\"\n",
              "            title=\"Convert this dataframe to an interactive table.\"\n",
              "            style=\"display:none;\">\n",
              "\n",
              "  <svg xmlns=\"http://www.w3.org/2000/svg\" height=\"24px\" viewBox=\"0 -960 960 960\">\n",
              "    <path d=\"M120-120v-720h720v720H120Zm60-500h600v-160H180v160Zm220 220h160v-160H400v160Zm0 220h160v-160H400v160ZM180-400h160v-160H180v160Zm440 0h160v-160H620v160ZM180-180h160v-160H180v160Zm440 0h160v-160H620v160Z\"/>\n",
              "  </svg>\n",
              "    </button>\n",
              "\n",
              "  <style>\n",
              "    .colab-df-container {\n",
              "      display:flex;\n",
              "      gap: 12px;\n",
              "    }\n",
              "\n",
              "    .colab-df-convert {\n",
              "      background-color: #E8F0FE;\n",
              "      border: none;\n",
              "      border-radius: 50%;\n",
              "      cursor: pointer;\n",
              "      display: none;\n",
              "      fill: #1967D2;\n",
              "      height: 32px;\n",
              "      padding: 0 0 0 0;\n",
              "      width: 32px;\n",
              "    }\n",
              "\n",
              "    .colab-df-convert:hover {\n",
              "      background-color: #E2EBFA;\n",
              "      box-shadow: 0px 1px 2px rgba(60, 64, 67, 0.3), 0px 1px 3px 1px rgba(60, 64, 67, 0.15);\n",
              "      fill: #174EA6;\n",
              "    }\n",
              "\n",
              "    .colab-df-buttons div {\n",
              "      margin-bottom: 4px;\n",
              "    }\n",
              "\n",
              "    [theme=dark] .colab-df-convert {\n",
              "      background-color: #3B4455;\n",
              "      fill: #D2E3FC;\n",
              "    }\n",
              "\n",
              "    [theme=dark] .colab-df-convert:hover {\n",
              "      background-color: #434B5C;\n",
              "      box-shadow: 0px 1px 3px 1px rgba(0, 0, 0, 0.15);\n",
              "      filter: drop-shadow(0px 1px 2px rgba(0, 0, 0, 0.3));\n",
              "      fill: #FFFFFF;\n",
              "    }\n",
              "  </style>\n",
              "\n",
              "    <script>\n",
              "      const buttonEl =\n",
              "        document.querySelector('#df-fd91c4f7-8e5e-4440-9039-3e53077ccd7a button.colab-df-convert');\n",
              "      buttonEl.style.display =\n",
              "        google.colab.kernel.accessAllowed ? 'block' : 'none';\n",
              "\n",
              "      async function convertToInteractive(key) {\n",
              "        const element = document.querySelector('#df-fd91c4f7-8e5e-4440-9039-3e53077ccd7a');\n",
              "        const dataTable =\n",
              "          await google.colab.kernel.invokeFunction('convertToInteractive',\n",
              "                                                    [key], {});\n",
              "        if (!dataTable) return;\n",
              "\n",
              "        const docLinkHtml = 'Like what you see? Visit the ' +\n",
              "          '<a target=\"_blank\" href=https://colab.research.google.com/notebooks/data_table.ipynb>data table notebook</a>'\n",
              "          + ' to learn more about interactive tables.';\n",
              "        element.innerHTML = '';\n",
              "        dataTable['output_type'] = 'display_data';\n",
              "        await google.colab.output.renderOutput(dataTable, element);\n",
              "        const docLink = document.createElement('div');\n",
              "        docLink.innerHTML = docLinkHtml;\n",
              "        element.appendChild(docLink);\n",
              "      }\n",
              "    </script>\n",
              "  </div>\n",
              "\n",
              "\n",
              "    </div>\n",
              "  </div>\n"
            ],
            "application/vnd.google.colaboratory.intrinsic+json": {
              "type": "dataframe",
              "repr_error": "Out of range float values are not JSON compliant: nan"
            }
          },
          "metadata": {},
          "execution_count": 10
        }
      ]
    },
    {
      "cell_type": "code",
      "source": [
        "# Contar cuántos correos son Spam y cuántos No Spam\n",
        "conteo_spam = data['Tipo'].value_counts()\n",
        "\n",
        "print(conteo_spam)\n",
        "\n"
      ],
      "metadata": {
        "colab": {
          "base_uri": "https://localhost:8080/"
        },
        "id": "9zLsTuVwdKYJ",
        "outputId": "6192ad0c-59ea-4c7d-fd6c-9d31e48f9f04"
      },
      "execution_count": 7,
      "outputs": [
        {
          "output_type": "stream",
          "name": "stdout",
          "text": [
            "Tipo\n",
            "no spam    75\n",
            "spam       25\n",
            "Name: count, dtype: int64\n"
          ]
        }
      ]
    },
    {
      "cell_type": "code",
      "source": [
        "# Filtrar los correos que contienen la palabra \"barato\"\n",
        "contiene_barato = data[data['Texto'].str.contains('barato', case=False)]\n",
        "\n",
        "# Calcular el total de correos con \"barato\"\n",
        "total_con_barato = contiene_barato.shape[0]\n",
        "\n",
        "# Calcular cuántos correos con \"barato\" son Spam y cuántos son No Spam\n",
        "conteo_spam_con_barato = contiene_barato[contiene_barato['Tipo'] == 'spam'].shape[0]\n",
        "conteo_no_spam_con_barato = contiene_barato[contiene_barato['Tipo'] == 'no spam'].shape[0]\n",
        "\n",
        "# Calcular los porcentajes\n",
        "porcentaje_spam_con_barato = (conteo_spam_con_barato / total_con_barato) * 100\n",
        "porcentaje_no_spam_con_barato = (conteo_no_spam_con_barato / total_con_barato) * 100\n",
        "\n",
        "print(conteo_spam_con_barato)\n",
        "print(f\"Porcentaje de correos con 'barato' en Spam: {porcentaje_spam_con_barato}%\")\n",
        "print(f\"Porcentaje de correos con 'barato' en No Spam: {porcentaje_no_spam_con_barato}%\")\n",
        "\n",
        "\n"
      ],
      "metadata": {
        "colab": {
          "base_uri": "https://localhost:8080/"
        },
        "id": "i9LTgABpeZWV",
        "outputId": "7c6e14f2-749f-4a2c-e395-208aad3a030c"
      },
      "execution_count": null,
      "outputs": [
        {
          "output_type": "stream",
          "name": "stdout",
          "text": [
            "20\n",
            "Porcentaje de correos con 'barato' en Spam: 80.0%\n",
            "Porcentaje de correos con 'barato' en No Spam: 20.0%\n"
          ]
        }
      ]
    },
    {
      "cell_type": "code",
      "source": [
        "# Filtrar los correos que contienen la palabra \"comprar\"\n",
        "contiene_comprar = data[data['Texto'].str.contains('comprar', case=False)]\n",
        "\n",
        "# Calcular el total de correos con \"comprar\"\n",
        "total_con_comprar = contiene_comprar.shape[0]\n",
        "\n",
        "# Calcular cuántos correos con \"comprar\" son Spam y cuántos son No Spam\n",
        "conteo_spam_con_comprar = contiene_comprar[contiene_comprar['Tipo'] == 'spam'].shape[0]\n",
        "conteo_no_spam_con_comprar = contiene_comprar[contiene_comprar['Tipo'] == 'no spam'].shape[0]\n",
        "\n",
        "# Calcular los porcentajes\n",
        "porcentaje_spam_con_comprar = (conteo_spam_con_comprar / total_con_comprar) * 100\n",
        "porcentaje_no_spam_con_comprar = (conteo_no_spam_con_comprar / total_con_comprar) * 100\n",
        "\n",
        "# Mostrar los resultados\n",
        "print(conteo_no_spam_con_comprar)\n",
        "print(f\"Porcentaje de correos con 'comprar' en Spam: {porcentaje_spam_con_comprar}%\")\n",
        "print(f\"Porcentaje de correos con 'comprar' en No Spam: {porcentaje_no_spam_con_comprar}%\")\n"
      ],
      "metadata": {
        "colab": {
          "base_uri": "https://localhost:8080/"
        },
        "id": "oqKsRJXfxCKg",
        "outputId": "e1ac3bf8-f76b-43aa-f753-f992e35c28b8"
      },
      "execution_count": null,
      "outputs": [
        {
          "output_type": "stream",
          "name": "stdout",
          "text": [
            "10\n",
            "Porcentaje de correos con 'comprar' en Spam: 60.0%\n",
            "Porcentaje de correos con 'comprar' en No Spam: 40.0%\n"
          ]
        }
      ]
    },
    {
      "cell_type": "code",
      "source": [
        "# Filtrar los correos que contienen ambas palabras \"barato\" y \"comprar\"\n",
        "contiene_ambas = data[data['Texto'].str.contains('barato', case=False) & data['Texto'].str.contains('comprar', case=False)]\n",
        "\n",
        "# Contar cuántos correos contienen ambas palabras en Spam y No Spam\n",
        "conteo_spam_con_ambas = contiene_ambas[contiene_ambas['Tipo'] == 'spam'].shape[0]\n",
        "conteo_no_spam_con_ambas = contiene_ambas[contiene_ambas['Tipo'] == 'no spam'].shape[0]\n",
        "\n",
        "print(f\"Correos en Spam con ambas palabras: {conteo_spam_con_ambas}\")\n",
        "print(f\"Correos en No Spam con ambas palabras: {conteo_no_spam_con_ambas}\")\n",
        "\n"
      ],
      "metadata": {
        "colab": {
          "base_uri": "https://localhost:8080/"
        },
        "id": "_VSEfP6X9P9L",
        "outputId": "d9a9271a-0c24-40f9-fa62-5f2c14a75bcf"
      },
      "execution_count": null,
      "outputs": [
        {
          "output_type": "stream",
          "name": "stdout",
          "text": [
            "Correos en Spam con ambas palabras: 12\n",
            "Correos en No Spam con ambas palabras: 0\n"
          ]
        }
      ]
    },
    {
      "cell_type": "code",
      "source": [
        "# 1. Calcular el total de correos\n",
        "total_correos = data.shape[0]\n",
        "\n",
        "# 2. Filtrar los correos que están en \"No Spam\"\n",
        "no_spam_correos = data[data['Tipo'].str.lower() == 'no spam']\n",
        "\n",
        "# 3. Contar cuántos correos en No Spam contienen \"Barato\"\n",
        "contiene_barato_no_spam = no_spam_correos[no_spam_correos['Texto'].str.contains('barato', case=False)]\n",
        "total_barato_no_spam = contiene_barato_no_spam.shape[0]\n",
        "\n",
        "# 4. Contar cuántos correos en No Spam contienen \"Comprar\"\n",
        "contiene_comprar_no_spam = no_spam_correos[no_spam_correos['Texto'].str.contains('comprar', case=False)]\n",
        "total_comprar_no_spam = contiene_comprar_no_spam.shape[0]\n",
        "\n",
        "# 5. Calcular el porcentaje de \"Barato\" y \"Comprar\" sobre el total de 100 correos\n",
        "porcentaje_barato = (total_barato_no_spam / total_correos) * 100\n",
        "porcentaje_comprar = (total_comprar_no_spam / total_correos) * 100\n",
        "\n",
        "# 6. Calcular cuántos correos podrían contener ambas palabras (Barato y Comprar)\n",
        "# Asumiendo que el porcentaje de correos con ambas palabras sería el resultado de multiplicar los porcentajes.\n",
        "porcentaje_ambas = (porcentaje_barato * porcentaje_comprar) / 100\n",
        "\n",
        "# 7. Mostrar los resultados\n",
        "print(f\"Total correos con 'Barato' en No Spam: {total_barato_no_spam} ({porcentaje_barato:.2f}%)\")\n",
        "print(f\"Total correos con 'Comprar' en No Spam: {total_comprar_no_spam} ({porcentaje_comprar:.2f}%)\")\n",
        "print(f\"Porcentaje estimado de correos con ambas palabras: {porcentaje_ambas:.2f}%\")\n",
        "\n"
      ],
      "metadata": {
        "colab": {
          "base_uri": "https://localhost:8080/"
        },
        "id": "AAMLinNjAV_Y",
        "outputId": "9125d920-3c08-4bf0-ac89-3ad747d874b9"
      },
      "execution_count": null,
      "outputs": [
        {
          "output_type": "stream",
          "name": "stdout",
          "text": [
            "Total correos con 'Barato' en No Spam: 5 (5.00%)\n",
            "Total correos con 'Comprar' en No Spam: 10 (10.00%)\n",
            "Porcentaje estimado de correos con ambas palabras: 0.50%\n"
          ]
        }
      ]
    },
    {
      "cell_type": "code",
      "source": [
        "# Asumiendo que 'data' es el DataFrame con la columna 'Tipo' que contiene 'spam' o 'no spam'\n",
        "\n",
        "# Filtrar los correos que son Spam y No Spam\n",
        "spam_correos = data[data['Tipo'].str.lower() == 'spam']  # Correos clasificados como Spam\n",
        "no_spam_correos = data[data['Tipo'].str.lower() == 'no spam']  # Correos clasificados como No Spam\n",
        "\n",
        "# Total de correos Spam y No Spam\n",
        "total_spam = spam_correos.shape[0]  # Total correos en Spam\n",
        "total_no_spam = no_spam_correos.shape[0]  # Total correos en No Spam\n",
        "\n",
        "# Filtrar los correos que contienen la palabra \"barato\"\n",
        "contiene_barato = data[data['Texto'].str.contains('barato', case=False)]\n",
        "\n",
        "# Calcular el total de correos con \"barato\" que son Spam y No Spam\n",
        "conteo_spam_con_barato = contiene_barato[contiene_barato['Tipo'].str.lower() == 'spam'].shape[0]\n",
        "conteo_no_spam_con_barato = contiene_barato[contiene_barato['Tipo'].str.lower() == 'no spam'].shape[0]\n",
        "\n",
        "# Filtrar los correos que contienen la palabra \"comprar\"\n",
        "contiene_comprar = data[data['Texto'].str.contains('comprar', case=False)]\n",
        "\n",
        "# Calcular el total de correos con \"comprar\" que son Spam y No Spam\n",
        "conteo_spam_con_comprar = contiene_comprar[contiene_comprar['Tipo'].str.lower() == 'spam'].shape[0]\n",
        "conteo_no_spam_con_comprar = contiene_comprar[contiene_comprar['Tipo'].str.lower() == 'no spam'].shape[0]\n",
        "\n",
        "# Probabilidades condicionales para correos en Spam\n",
        "p_barato_spam = conteo_spam_con_barato / total_spam  # P(barato | spam)\n",
        "p_comprar_spam = conteo_spam_con_comprar / total_spam  # P(comprar | spam)\n",
        "\n",
        "# Probabilidades condicionales para correos en No Spam\n",
        "p_barato_no_spam = conteo_no_spam_con_barato / total_no_spam  # P(barato | no spam)\n",
        "p_comprar_no_spam = conteo_no_spam_con_comprar / total_no_spam  # P(comprar | no spam)\n",
        "\n",
        "# Probabilidad conjunta de \"barato\" y \"comprar\" en Spam y No Spam\n",
        "p_ambas_spam = p_barato_spam * p_comprar_spam  # P(barato ∩ comprar | spam)\n",
        "p_ambas_no_spam = p_barato_no_spam * p_comprar_no_spam  # P(barato ∩ comprar | no spam)\n",
        "\n",
        "# Probabilidad de que el correo sea Spam y No Spam\n",
        "p_spam = total_spam / (total_spam + total_no_spam)  # P(spam)\n",
        "p_no_spam = total_no_spam / (total_spam + total_no_spam)  # P(no spam)\n",
        "\n",
        "# Teorema de Bayes aplicado: P(spam | barato ∩ comprar)\n",
        "numerador = p_ambas_spam * p_spam  # P(barato ∩ comprar | spam) * P(spam)\n",
        "denominador = (p_ambas_spam * p_spam) + (p_ambas_no_spam * p_no_spam)  # P(barato ∩ comprar | spam) * P(spam) + P(barato ∩ comprar | no spam) * P(no spam)\n",
        "\n",
        "# Probabilidad final\n",
        "probabilidad_spam_dado_barato_comprar = numerador / denominador\n",
        "\n",
        "# Convertir a porcentaje\n",
        "porcentaje_spam_dado_barato_comprar = probabilidad_spam_dado_barato_comprar * 100\n",
        "\n",
        "# Mostrar el resultado\n",
        "print(f\"Probabilidad de que un correo con 'Barato' y 'Comprar' sea Spam: {probabilidad_spam_dado_barato_comprar:.5f}\")\n",
        "print(f\"Porcentaje: {porcentaje_spam_dado_barato_comprar:.3f}%\")\n"
      ],
      "metadata": {
        "colab": {
          "base_uri": "https://localhost:8080/"
        },
        "id": "ymCSEvA48Y-5",
        "outputId": "ce80586b-e8d6-4814-8f8f-983cb44424dc"
      },
      "execution_count": null,
      "outputs": [
        {
          "output_type": "stream",
          "name": "stdout",
          "text": [
            "Probabilidad de que un correo con 'Barato' y 'Comprar' sea Spam: 0.94737\n",
            "Porcentaje: 94.737%\n"
          ]
        }
      ]
    },
    {
      "cell_type": "code",
      "source": [
        "# Importar las bibliotecas necesarias\n",
        "from sklearn.feature_extraction.text import TfidfVectorizer\n",
        "from sklearn.naive_bayes import MultinomialNB\n",
        "from sklearn.model_selection import train_test_split\n",
        "from sklearn.metrics import accuracy_score\n",
        "\n",
        "# Cargar la lista de stop words desde el archivo .txt\n",
        "ruta_stopwords = \"/gdrive/MyDrive/DataSet/spanish.txt\"\n",
        "with open(ruta_stopwords, 'r', encoding='utf-8') as file:\n",
        "    spanish_stopwords = file.read().splitlines()\n",
        "\n",
        "# Cargar el archivo de entrenamiento\n",
        "ruta_test = \"/gdrive/MyDrive/DataSet/emails_dataset_train.csv\"\n",
        "data_train = pd.read_csv(ruta_test, sep=';', encoding='latin1')\n",
        "\n",
        "# Cargar el archivo de prueba para hacer predicciones\n",
        "ruta_test = \"/gdrive/MyDrive/DataSet/emails_dataset_test.csv\"\n",
        "data_test = pd.read_csv(ruta_test, sep=';', encoding='latin1')\n",
        "\n",
        "\n"
      ],
      "metadata": {
        "id": "VP3aTQTSiEm3"
      },
      "execution_count": 30,
      "outputs": []
    },
    {
      "cell_type": "code",
      "source": [
        "# 1. Preprocesar el texto utilizando TfidfVectorizer con las stop words cargadas y ajustes adicionales\n",
        "vectorizer = TfidfVectorizer(stop_words=spanish_stopwords,\n",
        "                             ngram_range=(1, 2),  # Usar unigramas y bigramas\n",
        "                             max_df=0.90,  # Ignorar términos que aparecen en más del 90% de los documentos\n",
        "                             min_df=2,  # Ignorar términos que aparecen en menos de 2 documentos\n",
        "                             smooth_idf=True,  # Activar suavizado para evitar divisiones por cero\n",
        "                             sublinear_tf=True)  # Aplicar sublinealidad a la frecuencia de término\n",
        "\n",
        "X = vectorizer.fit_transform(data_train['Texto'])  # Convertir el texto a una matriz de características\n",
        "y = data_train['Tipo']  # La variable de salida es el tipo (Spam o No Spam)\n",
        "\n",
        "# 2. Entrenar el modelo de Bayes\n",
        "model = MultinomialNB()\n",
        "X_train, X_test, y_train, y_test = train_test_split(X, y, test_size=0.2, random_state=42)\n",
        "model.fit(X_train, y_train)\n",
        "\n",
        "# 3. Hacer predicciones en el conjunto de prueba\n",
        "y_pred = model.predict(X_test)\n",
        "\n",
        "# 4. Evaluar el rendimiento del modelo\n",
        "accuracy = accuracy_score(y_test, y_pred)\n",
        "print(f\"Precisión del modelo: {accuracy * 100:.2f}%\")\n",
        "\n",
        "# 5. Preprocesar el texto de prueba\n",
        "X_test_new = vectorizer.transform(data_test['Texto'])  # Aplicar el mismo vectorizador al nuevo texto\n",
        "\n",
        "# 6. Predecir el Tipo para los nuevos correos\n",
        "predicciones = model.predict(X_test_new)\n",
        "\n",
        "# Añadir la columna de predicciones al DataFrame\n",
        "data_test['Tipo_Predicho'] = predicciones\n",
        "\n",
        "# Mostrar las primeras filas con las predicciones\n",
        "print(data_test)\n",
        "\n",
        "# Si quieres guardar las predicciones en un archivo CSV:\n",
        "ruta_salida = \"/gdrive/MyDrive/DataSet/emails_dataset_predicciones.csv\"\n",
        "data_test.to_csv(ruta_salida, sep=';', index=False)\n"
      ],
      "metadata": {
        "colab": {
          "base_uri": "https://localhost:8080/"
        },
        "id": "bRquyOOskwW-",
        "outputId": "e877028c-22cb-4298-8d74-d8e471e8dd99"
      },
      "execution_count": 32,
      "outputs": [
        {
          "output_type": "stream",
          "name": "stdout",
          "text": [
            "Precisión del modelo: 78.95%\n",
            "    ID                                              Texto Tipo_Predicho\n",
            "0    1  Las mejores oportunidades de comprar barato ya...          spam\n",
            "1    2  Las mejores oportunidades de comprar barato ya...          spam\n",
            "2    3  Precios barato en todo lo que buscas y Los mej...          spam\n",
            "3    4  Aprovecha los precios barato antes de que se a...          spam\n",
            "4    5  Aprovecha los precios barato antes de que se a...          spam\n",
            "5    6  Aprovecha los precios barato antes de que se a...          spam\n",
            "6    7  Ofertas barato que no te puedes perder y compr...          spam\n",
            "7    8      Los mejores tips para hacer una buena comprar          spam\n",
            "8    9           comprar lo que necesitas al mejor precio       no spam\n",
            "9   10      Los mejores tips para hacer una buena comprar          spam\n",
            "10  11             Ofertas barato que no te puedes perder          spam\n",
            "11  12             Ofertas barato que no te puedes perder          spam\n",
            "12  13        Descubre cÃ³mo conseguir precios barato hoy          spam\n",
            "13  14  Las mejores oportunidades de comprar  ya estÃ¡...          spam\n",
            "14  15               Precios barato en todo lo que buscas          spam\n",
            "15  16   Consejos para comprar inteligentemente y ahorrar       no spam\n",
            "16  17      GuÃ­a completa para hacer una comprar exitosa          spam\n",
            "17  18      Los mejores tips para hacer una buena comprar          spam\n",
            "18  19      Los mejores tips para hacer una buena comprar          spam\n",
            "19  20                        Tu cuenta será desactivada        no spam\n",
            "20  21      Aquí comprar lo que necesitas al mejor precio       no spam\n",
            "21  22      GuÃ­a completa para hacer una comprar exitosa          spam\n",
            "22  23      Los mejores tips para hacer una buena comprar          spam\n",
            "23  24      Los mejores tips para hacer una buena comprar          spam\n",
            "24  25   Consejos para comprar inteligentemente y ahorrar       no spam\n",
            "25  26                  Novedades exclusivas solo para ti       no spam\n",
            "26  27         Explora las mejores ofertas del mes barato       no spam\n",
            "27  28         Nuevos productos disponibles, entra y mira       no spam\n",
            "28  29    Reunión de seguimiento del proyecto a las 10 AM       no spam\n",
            "29  30       Actualización de políticas de trabajo remoto       no spam\n",
            "30  31            Informe mensual de desempeño disponible       no spam\n",
            "31  32  Recordatorio: Fecha límite de presentación del...       no spam\n",
            "32  33     Invitación a la conferencia anual de liderazgo       no spam\n",
            "33  34  Oportunidad de capacitación en habilidades de ...       no spam\n",
            "34  35  Confirmación de la entrevista para el puesto d...       no spam\n"
          ]
        }
      ]
    }
  ]
}